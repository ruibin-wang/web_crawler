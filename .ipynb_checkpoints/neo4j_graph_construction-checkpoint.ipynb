{
 "cells": [
  {
   "cell_type": "code",
   "execution_count": 7,
   "metadata": {
    "scrolled": true
   },
   "outputs": [
    {
     "name": "stdout",
     "output_type": "stream",
     "text": [
      "Requirement already satisfied: neo4j in c:\\users\\ruibin\\anaconda3\\envs\\web_crawler_graph_building\\lib\\site-packages (5.2.0)\n",
      "Requirement already satisfied: pytz in c:\\users\\ruibin\\anaconda3\\envs\\web_crawler_graph_building\\lib\\site-packages (from neo4j) (2022.6)\n"
     ]
    }
   ],
   "source": [
    "! pip install neo4j\n",
    "! pip install p"
   ]
  },
  {
   "cell_type": "code",
   "execution_count": 8,
   "metadata": {
    "pycharm": {
     "is_executing": true
    }
   },
   "outputs": [],
   "source": [
    "from py2neo import Node, Relationship, Graph, NodeMatcher, RelationshipMatcher\n",
    "from neo4j import GraphDatabase\n",
    "\n",
    "graphpd = GraphDatabase.driver(uri=\"bolt://localhost:7687\", auth=(\"neo4j\", \"neo4j_test\"))\n",
    "\n",
    "session = graphpd.session()\n",
    "\n",
    "q1 = \"MATCH (n) return n LIMIT 10\"\n",
    "nodes = session.run(q1)\n",
    "\n",
    "for node in nodes:\n",
    "    print(node)"
   ]
  },
  {
   "cell_type": "code",
   "execution_count": null,
   "metadata": {},
   "outputs": [],
   "source": []
  }
 ],
 "metadata": {
  "kernelspec": {
   "display_name": "Python 3 (ipykernel)",
   "language": "python",
   "name": "python3"
  },
  "language_info": {
   "codemirror_mode": {
    "name": "ipython",
    "version": 3
   },
   "file_extension": ".py",
   "mimetype": "text/x-python",
   "name": "python",
   "nbconvert_exporter": "python",
   "pygments_lexer": "ipython3",
   "version": "3.8.13"
  }
 },
 "nbformat": 4,
 "nbformat_minor": 1
}
